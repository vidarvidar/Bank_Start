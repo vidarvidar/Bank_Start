{
 "cells": [
  {
   "cell_type": "code",
   "id": "initial_id",
   "metadata": {
    "collapsed": true
   },
   "source": [
    "import csv\n",
    "from random import randint\n",
    "from decimal import Decimal\n",
    "\n",
    "import pandas as pd\n",
    "\n",
    "from sqlalchemy.orm import Session\n",
    "from sqlalchemy import update\n",
    "from unicodedata import numeric\n",
    "\n",
    "from validate_transactions import validate_transactions\n",
    "from models import Base, Customer, Account, Transaction\n",
    "from db_sqlalchemy import init_db, engine\n",
    "from etlfuncs import csv_reader_renamer, db_table_trasher, db_adder"
   ],
   "outputs": [],
   "execution_count": null
  },
  {
   "metadata": {},
   "cell_type": "code",
   "source": [
    "df = pd.read_csv('data/sebank_customers_with_accounts.csv')\n",
    "df.head()\n",
    "df['Municipality'] = df['Address'].str.split(' ').str[-1].str.strip()\n",
    "df.head()\n",
    "dict1 = df.to_dict('records')\n",
    "print(dict1)"
   ],
   "id": "83ce51e10d736dfc",
   "outputs": [],
   "execution_count": null
  },
  {
   "metadata": {},
   "cell_type": "code",
   "source": "",
   "id": "277427eb7a492f4d",
   "outputs": [],
   "execution_count": null
  },
  {
   "metadata": {},
   "cell_type": "code",
   "source": "",
   "id": "50e9bd5776084228",
   "outputs": [],
   "execution_count": null
  },
  {
   "metadata": {},
   "cell_type": "code",
   "source": [
    "\n",
    "# \n",
    "# for row in df.to_dict(orient='records'):\n",
    "#     if row['Personnummer'] not in customers:\n",
    "#         customers.append([row['Customer'], row['Address'], row['Phone'], row['Personnummer'], row['Municipality']])\n",
    "# for row in df.to_dict(orient='records').values():\n",
    "#     customers = {}\n",
    "#     for col in row[:3]:\n",
    "#         if col not in customers:\n",
    "        \n",
    "\n",
    "# \n",
    "# init_db()\n",
    "# db = Session(engine)\n",
    "# db.query(Customer).delete()\n",
    "# db.query(Account).delete()\n",
    "\n",
    "customers = []\n",
    "\n",
    "for round, row in enumerate(dict1):\n",
    "    ssn = row['Personnummer']\n",
    "    name = row['Customer']\n",
    "    address = row['Address']\n",
    "    phone = row['Phone']\n",
    "    account_number = row['BankAccount']\n",
    "    municipality = row['Municipality']\n",
    "    \n",
    "    index = -1\n",
    "    for i, customer in enumerate(customers):\n",
    "        if customer[\"ssn\"] == ssn:\n",
    "            index = i\n",
    "            break    \n",
    "\n",
    "    if index == -1:\n",
    "        new_customer = {\n",
    "            \"name\": name, \n",
    "            \"ssn\": ssn, \n",
    "            \"address\": address, \n",
    "            \"phone\": phone, \n",
    "            \"account_list\": []\n",
    "        } \n",
    " \n",
    "        new_customer[\"account_list\"].append(account_number)     \n",
    "        customers.append(new_customer)    \n",
    "    else:        \n",
    "        customers[index][\"account_list\"].append(account_number)  \n"
   ],
   "id": "25ea111883c2c5a7",
   "outputs": [],
   "execution_count": null
  },
  {
   "metadata": {},
   "cell_type": "code",
   "source": "\n",
   "id": "1e50a575858e675b",
   "outputs": [],
   "execution_count": null
  },
  {
   "metadata": {},
   "cell_type": "code",
   "source": "",
   "id": "ebf0a457fb2cc35b",
   "outputs": [],
   "execution_count": null
  },
  {
   "metadata": {},
   "cell_type": "code",
   "source": [
    "\n",
    "\n",
    "\n",
    "# random_balance = random.randint(500, 50000)\n",
    "# float(random_balance)\n",
    "# \n",
    "# \n",
    "# test_accounts = []\n",
    "# \n",
    "# account1 = Account(account_number=1, municipality='One', customer_id=2)\n",
    "# account2 = Account(account_number=2, municipality='Two', customer_id=3)\n",
    "# account3 = Account(account_number=3, municipality='Three', customer_id=4)\n",
    "# test_accounts.append(account3)\n",
    "# test_accounts.append(account1)\n",
    "# test_accounts.append(account2)\n",
    "# \n",
    "# for account in test_accounts:\n",
    "#     setattr(account, 'balance', float(random.randint(500, 10000)))\n",
    "#     print(account.balance)\n",
    "\n",
    "\n"
   ],
   "id": "7203212ce9574a48",
   "outputs": [],
   "execution_count": null
  },
  {
   "metadata": {},
   "cell_type": "markdown",
   "source": "",
   "id": "bd307e9b04a079ef"
  },
  {
   "metadata": {},
   "cell_type": "code",
   "source": [
    "init_db()\n",
    "db = Session(engine)\n",
    "df = pd.read_csv('data/transactions.csv')\n",
    "sample_df = df.sample(100)\n",
    "pd.DataFrame.to_csv(sample_df, 'data/sample_transactions', index=False)\n",
    "accounts = db.query(Account).all()\n"
   ],
   "id": "86d15fcbce399204",
   "outputs": [],
   "execution_count": null
  },
  {
   "metadata": {},
   "cell_type": "code",
   "source": [
    "exchange_rate_to_sek = {\n",
    "    'SEK': 1.0,\n",
    "    'DKK': 1.46,\n",
    "    'USD': 9.68,\n",
    "    'EUR': 10.89,\n",
    "    'NOK': 0.94,\n",
    "    'RMB': 1.34,\n",
    "    'ZAR': 0.54,\n",
    "    'GBP': 12.94,\n",
    "    'ZMW': 0.36,\n",
    "    'JPY': 0.067\n",
    "}\n",
    "\n",
    "init_db()\n",
    "db = Session(engine)\n",
    "accounts = db.query(Account).all()\n",
    "account_numbers = []\n",
    "for number in db.query(Account.account_number).all():\n",
    "    account_numbers.append(number.account_number)    \n",
    "\n",
    "valid, invalid = validate_transactions('data/sample_transactions')\n",
    "\n",
    "                # if row['receiver_account'] in account_numbers:\n",
    "                #     update_account = db.query(Account).where(Account.account_number == row['receiver_account']).one_or_none()\n",
    "                #     old_balance = update_account.balance\n",
    "                #     if row['currency'] in exchange_rate_to_sek.keys():\n",
    "                #         converted_amount = Decimal(row['amount']) * Decimal(exchange_rate_to_sek[row['currency']])\n",
    "                #     update_account.balance = update_account.balance + converted_amount\n",
    "                #     print(f'{row['transaction_id']}: prior balance {old_balance}')"
   ],
   "id": "6412fc8929d1959b",
   "outputs": [],
   "execution_count": null
  },
  {
   "metadata": {},
   "cell_type": "code",
   "source": "valid",
   "id": "aeb2109e9768b7e9",
   "outputs": [],
   "execution_count": null
  },
  {
   "metadata": {},
   "cell_type": "code",
   "source": [
    "df = pd.read_csv('data/sample_transactions')\n",
    "invalid_list = []\n",
    "\n",
    "for i, r in valid.iterrows():\n",
    "    if r['transaction_type'] == 'outgoing': \n",
    "        current_account = db.query(Account).filter(Account.account_number == r['sender_account']).one_or_none()\n",
    "        if not r['sender_account'] in account_numbers:\n",
    "            invalid_list.append(r)\n",
    "            print(f'Invalid transaction {r['transaction_id']}, account {r['sender_account']} is not in bank', len(valid))\n",
    "            valid.drop(i, axis=0, inplace=True)\n",
    "        elif not r['sender_municipality'] in current_account.municipality:\n",
    "            invalid_list.append(r)\n",
    "            print(f'Invalid transaction {r['transaction_id']}, sender municipality {r[\"sender_municipality\"]} does not match account municipality {current_account.municipality}', len(valid))\n",
    "            valid.drop(i, axis=0, inplace=True)\n",
    "    elif r['transaction_type'] == 'incoming':\n",
    "        current_account = db.query(Account).filter(Account.account_number == r['receiver_account']).one_or_none()\n",
    "        if not r['receiver_account'] in account_numbers:\n",
    "            invalid_list.append(r)\n",
    "            print(f'Invalid transaction {r['transaction_id']}, receiver account {r['receiver_account']} is not in bank', len(valid))\n",
    "            valid.drop(i, axis=0, inplace=True)\n",
    "        elif not r['receiver_municipality'] in current_account.municipality:\n",
    "            invalid_list.append(r)\n",
    "            print(f'Invalid transaction {r['transaction_id']}, receiver municipality {r[\"sender_municipality\"]} does not match account municipality {current_account.municipality}', len(valid))\n",
    "            valid.drop(i, axis=0, inplace=True)"
   ],
   "id": "a0e66bc8606f0050",
   "outputs": [],
   "execution_count": null
  },
  {
   "metadata": {},
   "cell_type": "code",
   "source": "invalid_list",
   "id": "4aaa62fdfc69b806",
   "outputs": [],
   "execution_count": null
  },
  {
   "metadata": {},
   "cell_type": "code",
   "source": [
    "\n",
    "current_account = db.query(Account).filter(Account.account_number =='SE8902OGIV86383792142837').one_or_none()\n"
   ],
   "id": "3f0d42d9c1849f1d",
   "outputs": [],
   "execution_count": null
  },
  {
   "metadata": {},
   "cell_type": "code",
   "source": "current_account.municipality",
   "id": "c2b92eb01c561366",
   "outputs": [],
   "execution_count": null
  },
  {
   "metadata": {},
   "cell_type": "code",
   "source": [
    "for account in account_numbers:\n",
    "    print(account.account_number)\n",
    "    \n",
    "#GB88YSJL65468569134848"
   ],
   "id": "d79095c7ccb01280",
   "outputs": [],
   "execution_count": null
  },
  {
   "metadata": {},
   "cell_type": "code",
   "source": "",
   "id": "af484466bcf54ee4",
   "outputs": [],
   "execution_count": null
  },
  {
   "metadata": {},
   "cell_type": "code",
   "source": "",
   "id": "945475b07098e2e2",
   "outputs": [],
   "execution_count": null
  }
 ],
 "metadata": {
  "kernelspec": {
   "display_name": "Python 3",
   "language": "python",
   "name": "python3"
  },
  "language_info": {
   "codemirror_mode": {
    "name": "ipython",
    "version": 2
   },
   "file_extension": ".py",
   "mimetype": "text/x-python",
   "name": "python",
   "nbconvert_exporter": "python",
   "pygments_lexer": "ipython2",
   "version": "2.7.6"
  }
 },
 "nbformat": 4,
 "nbformat_minor": 5
}
